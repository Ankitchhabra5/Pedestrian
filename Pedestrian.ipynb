{
 "cells": [
  {
   "cell_type": "code",
   "execution_count": 1,
   "metadata": {},
   "outputs": [],
   "source": [
    "import findspark as fs\n",
    "fs.init()\n",
    "fs.find()\n",
    "from pyspark.sql import SparkSession as ss\n",
    "from pyspark.context import SparkContext\n",
    "from pyspark.sql.types import StructType, StructField, StringType, IntegerType\n",
    "from pyspark.sql import functions as f\n",
    "import re\n",
    "from pyspark.sql.functions import coalesce, to_date, col, regexp_replace, split, when, lit, translate, current_date, year,length, approx_count_distinct, to_timestamp, substring"
   ]
  },
  {
   "cell_type": "code",
   "execution_count": 2,
   "metadata": {},
   "outputs": [],
   "source": [
    "from pyspark.sql.functions import trim,lower,desc,asc"
   ]
  },
  {
   "cell_type": "code",
   "execution_count": 3,
   "metadata": {},
   "outputs": [],
   "source": [
    "spark = ss.builder.master(\"local\").appName('MyApp').getOrCreate()"
   ]
  },
  {
   "cell_type": "markdown",
   "metadata": {},
   "source": [
    "# Read pedestrian-counting-system-sensor-locations.csv file"
   ]
  },
  {
   "cell_type": "code",
   "execution_count": 4,
   "metadata": {},
   "outputs": [],
   "source": [
    "df_pd_cnt_loctn = spark.read.option(\"header\",True).csv(\"pedestrian-counting-system-sensor-locations.csv\")"
   ]
  },
  {
   "cell_type": "code",
   "execution_count": 5,
   "metadata": {},
   "outputs": [
    {
     "name": "stdout",
     "output_type": "stream",
     "text": [
      "+-----------+---------------------------------+-----------+-----------------+-------------------+-------------+------+-----------+-----------+------------+------------+--------------------------+\n",
      "|location_id|Sensor_description               |sensor_name|Installation_date|Note               |location_type|Status|Direction_1|Direction_2|Latitude    |Longitude   |Location                  |\n",
      "+-----------+---------------------------------+-----------+-----------------+-------------------+-------------+------+-----------+-----------+------------+------------+--------------------------+\n",
      "|2          |Bourke Street Mall (South)       |Bou283_T   |2009-03-30       |null               |Outdoor      |A     |East       |West       |-37.81380668|144.96516718|-37.81380668, 144.96516718|\n",
      "|4          |Town Hall (West)                 |Swa123_T   |2009-03-23       |null               |Outdoor      |A     |North      |South      |-37.81487988|144.9660878 |-37.81487988, 144.9660878 |\n",
      "|6          |Flinders Street Station Underpass|FliS_T     |2009-03-25       |Upgraded on 8/09/21|Outdoor      |A     |North      |South      |-37.81911705|144.96558255|-37.81911705, 144.96558255|\n",
      "|8          |Webb Bridge                      |WebBN_T    |2009-03-24       |null               |Outdoor      |A     |North      |South      |-37.82293543|144.9471751 |-37.82293543, 144.9471751 |\n",
      "|10         |Victoria Point                   |BouHbr_T   |2009-04-23       |null               |Outdoor      |A     |East       |West       |-37.81876474|144.94710545|-37.81876474, 144.94710545|\n",
      "+-----------+---------------------------------+-----------+-----------------+-------------------+-------------+------+-----------+-----------+------------+------------+--------------------------+\n",
      "only showing top 5 rows\n",
      "\n"
     ]
    }
   ],
   "source": [
    "# Print 5 rows of the dataframe created\n",
    "df_pd_cnt_loctn.show(5,truncate = False)"
   ]
  },
  {
   "cell_type": "code",
   "execution_count": 6,
   "metadata": {},
   "outputs": [
    {
     "name": "stdout",
     "output_type": "stream",
     "text": [
      "root\n",
      " |-- location_id: string (nullable = true)\n",
      " |-- Sensor_description: string (nullable = true)\n",
      " |-- sensor_name: string (nullable = true)\n",
      " |-- Installation_date: string (nullable = true)\n",
      " |-- Note: string (nullable = true)\n",
      " |-- location_type: string (nullable = true)\n",
      " |-- Status: string (nullable = true)\n",
      " |-- Direction_1: string (nullable = true)\n",
      " |-- Direction_2: string (nullable = true)\n",
      " |-- Latitude: string (nullable = true)\n",
      " |-- Longitude: string (nullable = true)\n",
      " |-- Location: string (nullable = true)\n",
      "\n"
     ]
    }
   ],
   "source": [
    "df_pd_cnt_loctn.printSchema()"
   ]
  },
  {
   "cell_type": "markdown",
   "metadata": {},
   "source": [
    "# summary of the DataFrame's statistics"
   ]
  },
  {
   "cell_type": "code",
   "execution_count": 7,
   "metadata": {},
   "outputs": [
    {
     "name": "stdout",
     "output_type": "stream",
     "text": [
      "-RECORD 0------------------------------------------------------------\n",
      " summary            | count                                          \n",
      " location_id        | 108                                            \n",
      " Sensor_description | 108                                            \n",
      " sensor_name        | 108                                            \n",
      " Installation_date  | 107                                            \n",
      " Note               | 7                                              \n",
      " location_type      | 108                                            \n",
      " Status             | 108                                            \n",
      " Direction_1        | 100                                            \n",
      " Direction_2        | 100                                            \n",
      " Latitude           | 108                                            \n",
      " Longitude          | 108                                            \n",
      " Location           | 108                                            \n",
      "-RECORD 1------------------------------------------------------------\n",
      " summary            | mean                                           \n",
      " location_id        | 62.824074074074076                             \n",
      " Sensor_description | null                                           \n",
      " sensor_name        | null                                           \n",
      " Installation_date  | null                                           \n",
      " Note               | null                                           \n",
      " location_type      | null                                           \n",
      " Status             | null                                           \n",
      " Direction_1        | null                                           \n",
      " Direction_2        | null                                           \n",
      " Latitude           | -37.81244434777779                             \n",
      " Longitude          | 144.96165388787028                             \n",
      " Location           | null                                           \n",
      "-RECORD 2------------------------------------------------------------\n",
      " summary            | stddev                                         \n",
      " location_id        | 35.528277194976106                             \n",
      " Sensor_description | null                                           \n",
      " sensor_name        | null                                           \n",
      " Installation_date  | null                                           \n",
      " Note               | null                                           \n",
      " location_type      | null                                           \n",
      " Status             | null                                           \n",
      " Direction_1        | null                                           \n",
      " Direction_2        | null                                           \n",
      " Latitude           | 0.007869999880208894                           \n",
      " Longitude          | 0.01068331837600559                            \n",
      " Location           | null                                           \n",
      "-RECORD 3------------------------------------------------------------\n",
      " summary            | min                                            \n",
      " location_id        | 1                                              \n",
      " Sensor_description | 114 Flinders Street Car Park Crossing          \n",
      " sensor_name        | 261Will_T                                      \n",
      " Installation_date  | 2009-01-20                                     \n",
      " Note               | Device is upgraded in 26/02/2020               \n",
      " location_type      | Indoor                                         \n",
      " Status             | A                                              \n",
      " Direction_1        | East                                           \n",
      " Direction_2        | Out                                            \n",
      " Latitude           | -37.7893527                                    \n",
      " Longitude          | 144.9286055                                    \n",
      " Location           | -37.7893527, 144.9286055                       \n",
      "-RECORD 4------------------------------------------------------------\n",
      " summary            | max                                            \n",
      " location_id        | 99                                             \n",
      " Sensor_description | William St - Little Lonsdale St (West)         \n",
      " sensor_name        | WestWP_T                                       \n",
      " Installation_date  | 2023-01-18                                     \n",
      " Note               | sensor upgraded from laser to 3D on 19/12/2019 \n",
      " location_type      | Outdoor Blix                                   \n",
      " Status             | A                                              \n",
      " Direction_1        | North                                          \n",
      " Direction_2        | West                                           \n",
      " Latitude           | -37.83025925                                   \n",
      " Longitude          | 144.98638807                                   \n",
      " Location           | -37.83025925, 144.97277626                     \n",
      "\n"
     ]
    }
   ],
   "source": [
    "df_pd_cnt_loctn.describe().show(truncate = False, vertical=True)"
   ]
  },
  {
   "cell_type": "markdown",
   "metadata": {},
   "source": [
    "# Total Records"
   ]
  },
  {
   "cell_type": "code",
   "execution_count": 8,
   "metadata": {},
   "outputs": [
    {
     "name": "stdout",
     "output_type": "stream",
     "text": [
      "Total count of records: 108\n"
     ]
    }
   ],
   "source": [
    "count = df_pd_cnt_loctn.count()\n",
    "\n",
    "# print the total count of records\n",
    "print(f\"Total count of records: {count}\")\n"
   ]
  },
  {
   "cell_type": "markdown",
   "metadata": {},
   "source": [
    "# Check Nullability on all columns"
   ]
  },
  {
   "cell_type": "code",
   "execution_count": 9,
   "metadata": {},
   "outputs": [
    {
     "name": "stdout",
     "output_type": "stream",
     "text": [
      "['Installation_date', 'Note', 'Direction_1', 'Direction_2']\n"
     ]
    }
   ],
   "source": [
    "null_columns = [col for col in df_pd_cnt_loctn.columns if df_pd_cnt_loctn.filter(f\"{col} is null\").count() > 0]\n",
    "\n",
    "# print the null columns\n",
    "print(null_columns)"
   ]
  },
  {
   "cell_type": "markdown",
   "metadata": {},
   "source": [
    "# Check distinct values"
   ]
  },
  {
   "cell_type": "code",
   "execution_count": 10,
   "metadata": {},
   "outputs": [
    {
     "name": "stdout",
     "output_type": "stream",
     "text": [
      "Column 'location_id' has 108 unique value(s).\n",
      "Column 'Sensor_description' has 106 unique value(s).\n",
      "Column 'sensor_name' has 107 unique value(s).\n",
      "Column 'Installation_date' has 76 unique value(s).\n",
      "Column 'Note' has 8 unique value(s).\n",
      "Column 'location_type' has 4 unique value(s).\n",
      "Column 'Status' has 1 unique value(s).\n",
      "Column 'Direction_1' has 4 unique value(s).\n",
      "Column 'Direction_2' has 4 unique value(s).\n",
      "Column 'Latitude' has 106 unique value(s).\n",
      "Column 'Longitude' has 106 unique value(s).\n",
      "Column 'Location' has 106 unique value(s).\n"
     ]
    }
   ],
   "source": [
    "unique_counts = {}\n",
    "for col_name in df_pd_cnt_loctn.columns:\n",
    "    unique_count = df_pd_cnt_loctn.select(col_name).distinct().count()\n",
    "    unique_counts[col_name] = unique_count\n",
    "\n",
    "# print the number of unique values for each column\n",
    "for col_name, unique_count in unique_counts.items():\n",
    "    print(f\"Column '{col_name}' has {unique_count} unique value(s).\")"
   ]
  },
  {
   "cell_type": "markdown",
   "metadata": {},
   "source": [
    "# Create Temporary View on Data"
   ]
  },
  {
   "cell_type": "code",
   "execution_count": 11,
   "metadata": {},
   "outputs": [],
   "source": [
    "df_pd_cnt_loctn.createOrReplaceTempView(\"pd_cnt_loctn_vw\") "
   ]
  },
  {
   "cell_type": "code",
   "execution_count": 12,
   "metadata": {},
   "outputs": [],
   "source": [
    "# Running SQL on the view\n",
    "\n",
    "stg_pd_cnt_loctn_vw_df=spark.sql(\"select * from pd_cnt_loctn_vw limit 10\")"
   ]
  },
  {
   "cell_type": "code",
   "execution_count": 13,
   "metadata": {},
   "outputs": [
    {
     "name": "stdout",
     "output_type": "stream",
     "text": [
      "+-----------+--------------------+-----------+-----------------+--------------------+-------------+------+-----------+-----------+------------+------------+--------------------+\n",
      "|location_id|  Sensor_description|sensor_name|Installation_date|                Note|location_type|Status|Direction_1|Direction_2|    Latitude|   Longitude|            Location|\n",
      "+-----------+--------------------+-----------+-----------------+--------------------+-------------+------+-----------+-----------+------------+------------+--------------------+\n",
      "|          2|Bourke Street Mal...|   Bou283_T|       2009-03-30|                null|      Outdoor|     A|       East|       West|-37.81380668|144.96516718|-37.81380668, 144...|\n",
      "|          4|    Town Hall (West)|   Swa123_T|       2009-03-23|                null|      Outdoor|     A|      North|      South|-37.81487988| 144.9660878|-37.81487988, 144...|\n",
      "|          6|Flinders Street S...|     FliS_T|       2009-03-25| Upgraded on 8/09/21|      Outdoor|     A|      North|      South|-37.81911705|144.96558255|-37.81911705, 144...|\n",
      "|          8|         Webb Bridge|    WebBN_T|       2009-03-24|                null|      Outdoor|     A|      North|      South|-37.82293543| 144.9471751|-37.82293543, 144...|\n",
      "|         10|      Victoria Point|   BouHbr_T|       2009-04-23|                null|      Outdoor|     A|       East|       West|-37.81876474|144.94710545|-37.81876474, 144...|\n",
      "|         11|     Waterfront City|   WatCit_T|       2009-01-20|                null|      Outdoor|     A|       East|       West|-37.81564989|144.93970694|-37.81564989, 144...|\n",
      "|         14|    Sandridge Bridge|   SanBri_T|       2009-03-24|Sensor relocated ...|      Outdoor|     A|      North|      South|-37.82011242|144.96291897|-37.82011242, 144...|\n",
      "|         27|   QV Market-Peel St|      Vic_T|       2013-08-16|                null|      Outdoor|     A|       East|       West|-37.80606888|144.95644692|-37.80606888, 144...|\n",
      "|         29|St Kilda Rd-Alexa...|       AG_T|       2013-10-11|sensor upgraded f...|      Outdoor|     A|      North|      South|-37.81965809|144.96863453|-37.81965809, 144...|\n",
      "|         31|     Lygon St (West)|   Lyg161_T|       2013-10-10|                null|      Outdoor|     A|      North|      South|-37.80169681|144.96658911|-37.80169681, 144...|\n",
      "+-----------+--------------------+-----------+-----------------+--------------------+-------------+------+-----------+-----------+------------+------------+--------------------+\n",
      "\n"
     ]
    }
   ],
   "source": [
    "stg_pd_cnt_loctn_vw_df.show()"
   ]
  },
  {
   "cell_type": "markdown",
   "metadata": {},
   "source": [
    "# Read pedestrian-counting-system-sensor-locations.csv"
   ]
  },
  {
   "cell_type": "code",
   "execution_count": 14,
   "metadata": {},
   "outputs": [],
   "source": [
    "df_pd_cnt_mnthly_cnt = spark.read.option(\"header\",True).csv(\"Pedestrian_Counting_System_Monthly_counts_per_hour_may_2009_to_14_dec_2022.csv\")"
   ]
  },
  {
   "cell_type": "code",
   "execution_count": 15,
   "metadata": {},
   "outputs": [
    {
     "name": "stdout",
     "output_type": "stream",
     "text": [
      "+-------+-----------------------------+----+--------+-----+------+----+---------+----------------------------+-------------+\n",
      "|ID     |Date_Time                    |Year|Month   |Mdate|Day   |Time|Sensor_ID|Sensor_Name                 |Hourly_Counts|\n",
      "+-------+-----------------------------+----+--------+-----+------+----+---------+----------------------------+-------------+\n",
      "|2887628|November 01, 2019 05:00:00 PM|2019|November|1    |Friday|17  |34       |Flinders St-Spark La        |300          |\n",
      "|2887629|November 01, 2019 05:00:00 PM|2019|November|1    |Friday|17  |39       |Alfred Place                |604          |\n",
      "|2887630|November 01, 2019 05:00:00 PM|2019|November|1    |Friday|17  |37       |Lygon St (East)             |216          |\n",
      "|2887631|November 01, 2019 05:00:00 PM|2019|November|1    |Friday|17  |40       |Lonsdale St-Spring St (West)|627          |\n",
      "|2887632|November 01, 2019 05:00:00 PM|2019|November|1    |Friday|17  |36       |Queen St (West)             |774          |\n",
      "+-------+-----------------------------+----+--------+-----+------+----+---------+----------------------------+-------------+\n",
      "only showing top 5 rows\n",
      "\n"
     ]
    }
   ],
   "source": [
    "# Print 5 rows of the dataframe created\n",
    "df_pd_cnt_mnthly_cnt.show(5,truncate = False)"
   ]
  },
  {
   "cell_type": "code",
   "execution_count": 16,
   "metadata": {},
   "outputs": [
    {
     "name": "stdout",
     "output_type": "stream",
     "text": [
      "root\n",
      " |-- ID: string (nullable = true)\n",
      " |-- Date_Time: string (nullable = true)\n",
      " |-- Year: string (nullable = true)\n",
      " |-- Month: string (nullable = true)\n",
      " |-- Mdate: string (nullable = true)\n",
      " |-- Day: string (nullable = true)\n",
      " |-- Time: string (nullable = true)\n",
      " |-- Sensor_ID: string (nullable = true)\n",
      " |-- Sensor_Name: string (nullable = true)\n",
      " |-- Hourly_Counts: string (nullable = true)\n",
      "\n"
     ]
    }
   ],
   "source": [
    "df_pd_cnt_mnthly_cnt.printSchema()"
   ]
  },
  {
   "cell_type": "markdown",
   "metadata": {},
   "source": [
    "# summary of the DataFrame's statistics"
   ]
  },
  {
   "cell_type": "code",
   "execution_count": 17,
   "metadata": {},
   "outputs": [],
   "source": [
    "#df_pd_cnt_mnthly_cnt.describe().show(truncate = False, vertical=True)"
   ]
  },
  {
   "cell_type": "markdown",
   "metadata": {},
   "source": [
    "# Total Records"
   ]
  },
  {
   "cell_type": "code",
   "execution_count": 18,
   "metadata": {},
   "outputs": [
    {
     "name": "stdout",
     "output_type": "stream",
     "text": [
      "Total count of records: 4562230\n"
     ]
    }
   ],
   "source": [
    "count = df_pd_cnt_mnthly_cnt.count()\n",
    "\n",
    "# print the total count of records\n",
    "print(f\"Total count of records: {count}\")\n"
   ]
  },
  {
   "cell_type": "markdown",
   "metadata": {},
   "source": [
    "# Check Nullability on all columns"
   ]
  },
  {
   "cell_type": "code",
   "execution_count": 19,
   "metadata": {},
   "outputs": [
    {
     "name": "stdout",
     "output_type": "stream",
     "text": [
      "[]\n"
     ]
    }
   ],
   "source": [
    "null_columns = [col for col in df_pd_cnt_mnthly_cnt.columns if df_pd_cnt_mnthly_cnt.filter(f\"{col} is null\").count() > 0]\n",
    "\n",
    "# print the null columns\n",
    "print(null_columns)"
   ]
  },
  {
   "cell_type": "markdown",
   "metadata": {},
   "source": [
    "# Check distinct values"
   ]
  },
  {
   "cell_type": "code",
   "execution_count": 20,
   "metadata": {},
   "outputs": [
    {
     "name": "stdout",
     "output_type": "stream",
     "text": [
      "Column 'ID' has 4562230 unique value(s).\n",
      "Column 'Date_Time' has 117673 unique value(s).\n",
      "Column 'Year' has 14 unique value(s).\n",
      "Column 'Month' has 12 unique value(s).\n",
      "Column 'Mdate' has 31 unique value(s).\n",
      "Column 'Day' has 7 unique value(s).\n",
      "Column 'Time' has 24 unique value(s).\n",
      "Column 'Sensor_ID' has 82 unique value(s).\n",
      "Column 'Sensor_Name' has 94 unique value(s).\n",
      "Column 'Hourly_Counts' has 6417 unique value(s).\n"
     ]
    }
   ],
   "source": [
    "unique_counts = {}\n",
    "for col_name in df_pd_cnt_mnthly_cnt.columns:\n",
    "    unique_count = df_pd_cnt_mnthly_cnt.select(col_name).distinct().count()\n",
    "    unique_counts[col_name] = unique_count\n",
    "\n",
    "# print the number of unique values for each column\n",
    "for col_name, unique_count in unique_counts.items():\n",
    "    print(f\"Column '{col_name}' has {unique_count} unique value(s).\")"
   ]
  },
  {
   "cell_type": "markdown",
   "metadata": {},
   "source": [
    "# Create Temporary View on Data"
   ]
  },
  {
   "cell_type": "code",
   "execution_count": 21,
   "metadata": {},
   "outputs": [],
   "source": [
    "df_pd_cnt_mnthly_cnt.createOrReplaceTempView(\"pd_cnt_mnthly_cnt_vw\") "
   ]
  },
  {
   "cell_type": "code",
   "execution_count": 22,
   "metadata": {},
   "outputs": [
    {
     "name": "stdout",
     "output_type": "stream",
     "text": [
      "+-------+-----------------------------+----+--------+-----+------+----+---------+-----------------------------+-------------+\n",
      "|ID     |Date_Time                    |Year|Month   |Mdate|Day   |Time|Sensor_ID|Sensor_Name                  |Hourly_Counts|\n",
      "+-------+-----------------------------+----+--------+-----+------+----+---------+-----------------------------+-------------+\n",
      "|2887628|November 01, 2019 05:00:00 PM|2019|November|1    |Friday|17  |34       |Flinders St-Spark La         |300          |\n",
      "|2887629|November 01, 2019 05:00:00 PM|2019|November|1    |Friday|17  |39       |Alfred Place                 |604          |\n",
      "|2887630|November 01, 2019 05:00:00 PM|2019|November|1    |Friday|17  |37       |Lygon St (East)              |216          |\n",
      "|2887631|November 01, 2019 05:00:00 PM|2019|November|1    |Friday|17  |40       |Lonsdale St-Spring St (West) |627          |\n",
      "|2887632|November 01, 2019 05:00:00 PM|2019|November|1    |Friday|17  |36       |Queen St (West)              |774          |\n",
      "|2887633|November 01, 2019 05:00:00 PM|2019|November|1    |Friday|17  |29       |St Kilda Rd-Alexandra Gardens|644          |\n",
      "|2887634|November 01, 2019 05:00:00 PM|2019|November|1    |Friday|17  |42       |Grattan St-Swanston St (West)|453          |\n",
      "|2887635|November 01, 2019 05:00:00 PM|2019|November|1    |Friday|17  |43       |Monash Rd-Swanston St (West) |387          |\n",
      "|2887636|November 01, 2019 05:00:00 PM|2019|November|1    |Friday|17  |44       |Tin Alley-Swanston St (West) |27           |\n",
      "|2887637|November 01, 2019 05:00:00 PM|2019|November|1    |Friday|17  |35       |Southbank                    |2691         |\n",
      "+-------+-----------------------------+----+--------+-----+------+----+---------+-----------------------------+-------------+\n",
      "\n"
     ]
    }
   ],
   "source": [
    "# Running SQL on the view\n",
    "\n",
    "stg_pd_cnt_mnthly_cnt_df=spark.sql(\"select * from pd_cnt_mnthly_cnt_vw limit 10\")\n",
    "stg_pd_cnt_mnthly_cnt_df.show(truncate = False)"
   ]
  },
  {
   "cell_type": "markdown",
   "metadata": {},
   "source": [
    "# Check if there are any sensors which are present in monthly_count list but not in location list\n",
    "\n",
    "After looking at data we observed that sensor id is same as location id, hence comparing the records on these attributes"
   ]
  },
  {
   "cell_type": "code",
   "execution_count": 23,
   "metadata": {},
   "outputs": [
    {
     "name": "stdout",
     "output_type": "stream",
     "text": [
      "+---------+-------------------------------------+\n",
      "|Sensor_ID|Sensor_Name                          |\n",
      "+---------+-------------------------------------+\n",
      "|38       |Flinders St-Swanston St (West)       |\n",
      "|33       |Flinders St-Spring St (West)         |\n",
      "|60       |Flinders la - Swanston St (West) Temp|\n",
      "|32       |City Square                          |\n",
      "|13       |Flagstaff Station                    |\n",
      "|16       |Australia on Collins                 |\n",
      "|22       |Flinders St-Elizabeth St (East)      |\n",
      "|15       |State Library                        |\n",
      "|34       |Flinders St-Spark La                 |\n",
      "|60       |Flinders La - Swanston St (West) Temp|\n",
      "+---------+-------------------------------------+\n",
      "\n"
     ]
    }
   ],
   "source": [
    "spark.sql(\"\"\"select distinct(Sensor_ID),Sensor_Name from pd_cnt_mnthly_cnt_vw where Sensor_ID not in\n",
    "            (select distinct(location_id) from pd_cnt_loctn_vw) \"\"\" ).show(truncate = False)"
   ]
  },
  {
   "cell_type": "code",
   "execution_count": 24,
   "metadata": {},
   "outputs": [],
   "source": [
    "# Calculate the count of those sensors"
   ]
  },
  {
   "cell_type": "code",
   "execution_count": 25,
   "metadata": {},
   "outputs": [
    {
     "name": "stdout",
     "output_type": "stream",
     "text": [
      "+-------------------------+\n",
      "|count(DISTINCT Sensor_ID)|\n",
      "+-------------------------+\n",
      "|                        9|\n",
      "+-------------------------+\n",
      "\n"
     ]
    }
   ],
   "source": [
    "spark.sql(\"\"\"select count(distinct(Sensor_ID)) from pd_cnt_mnthly_cnt_vw where Sensor_ID not in\n",
    "            (select distinct(location_id) from pd_cnt_loctn_vw) \"\"\" ).show()"
   ]
  },
  {
   "cell_type": "markdown",
   "metadata": {},
   "source": [
    "# Check if there are any sensors which are present in location list but not in monthly_count list"
   ]
  },
  {
   "cell_type": "code",
   "execution_count": 26,
   "metadata": {},
   "outputs": [
    {
     "name": "stdout",
     "output_type": "stream",
     "text": [
      "+-----------+--------------------------------------------------------------------------------+\n",
      "|location_id|Sensor_description                                                              |\n",
      "+-----------+--------------------------------------------------------------------------------+\n",
      "|94         |Fitzroy Garden- The Conservatory                                                |\n",
      "|92         |Library at The Dock-South side                                                  |\n",
      "|88         |Micro-Labs                                                                      |\n",
      "|105        |Kathleen Syme Library Lib                                                       |\n",
      "|91         |Library at The Dock-North side                                                  |\n",
      "|99         |Town Hall Visitor Centre                                                        |\n",
      "|122        |Birrarung Marr                                                                  |\n",
      "|103        |Kensington Town Hall                                                            |\n",
      "|81         |Boyd Commuinty - Front door                                                     |\n",
      "|121        |Royal Park BBQ near the playground and public toilet facility - Gatehouse Street|\n",
      "|96         |Fitzroy Garden Visitor Centre Internal                                          |\n",
      "|120        |Harbour Esplanade                                                               |\n",
      "|111        |Harbour Esplanade                                                               |\n",
      "|104        |Kathleen Syme Library Main                                                      |\n",
      "|80         |Boyd Commuinty - Rear door                                                      |\n",
      "|112        |Argyle Sq Park                                                                  |\n",
      "|113        |Micro-labs Blix                                                                 |\n",
      "|102        |North Melbourne Library                                                         |\n",
      "|107        |Flagstaff station (East)                                                        |\n",
      "|93         |East Melbourne Library                                                          |\n",
      "|118        |114 Flinders Street Car Park Crossing                                           |\n",
      "|116        |Fitzroy Garden Visitor Centre Cafe Verandah                                     |\n",
      "|117        |114 Flinders Street Car Park Footpath                                           |\n",
      "|110        |Birrarung Marr East Entry                                                       |\n",
      "|89         |City Library                                                                    |\n",
      "|106        |Kathleen Syme Library Cafe                                                      |\n",
      "|119        |Pop Up Library - Crossbar - Federation Square                                   |\n",
      "|90         |Boyd Community Hub- Library                                                     |\n",
      "|98         |Little Collins Pop-up Library                                                   |\n",
      "|82         |510 Elizabeth Street - Main Entry                                               |\n",
      "|115        |Shrine of rememberance-North-East                                               |\n",
      "|95         |Fitzroy Garden Visitor Centre External                                          |\n",
      "|108        |William St - Little Lonsdale St (West)                                          |\n",
      "|109        |La Trobe St- William St (South)                                                 |\n",
      "|114        |Shrine of rememberance-North-West                                               |\n",
      "+-----------+--------------------------------------------------------------------------------+\n",
      "\n"
     ]
    }
   ],
   "source": [
    "spark.sql(\"\"\"select distinct(location_id),Sensor_description from pd_cnt_loctn_vw where location_id not in\n",
    "            (select distinct(Sensor_ID) from pd_cnt_mnthly_cnt_vw) \"\"\" ).show(50,truncate = False)"
   ]
  },
  {
   "cell_type": "code",
   "execution_count": 27,
   "metadata": {},
   "outputs": [],
   "source": [
    "# calculate count"
   ]
  },
  {
   "cell_type": "code",
   "execution_count": 28,
   "metadata": {},
   "outputs": [
    {
     "name": "stdout",
     "output_type": "stream",
     "text": [
      "+---------------------------+\n",
      "|count(DISTINCT location_id)|\n",
      "+---------------------------+\n",
      "|                         35|\n",
      "+---------------------------+\n",
      "\n"
     ]
    }
   ],
   "source": [
    "spark.sql(\"\"\"select count(distinct(location_id))from pd_cnt_loctn_vw where location_id not in\n",
    "            (select distinct(Sensor_ID) from pd_cnt_mnthly_cnt_vw) \"\"\" ).show()"
   ]
  },
  {
   "cell_type": "code",
   "execution_count": null,
   "metadata": {},
   "outputs": [],
   "source": []
  },
  {
   "cell_type": "markdown",
   "metadata": {},
   "source": [
    "# Check what location type of sensor is installed and its count"
   ]
  },
  {
   "cell_type": "code",
   "execution_count": 29,
   "metadata": {},
   "outputs": [
    {
     "name": "stdout",
     "output_type": "stream",
     "text": [
      "+-------------+--------+\n",
      "|location_type|count(1)|\n",
      "+-------------+--------+\n",
      "|Indoor       |21      |\n",
      "|Outdoor      |79      |\n",
      "|Indoor Blix  |1       |\n",
      "|Outdoor Blix |7       |\n",
      "+-------------+--------+\n",
      "\n"
     ]
    }
   ],
   "source": [
    "spark.sql(\"\"\"select distinct(location_type),count(*) from pd_cnt_loctn_vw group by location_type \"\"\" ).show(truncate = False)"
   ]
  },
  {
   "cell_type": "code",
   "execution_count": null,
   "metadata": {},
   "outputs": [],
   "source": []
  },
  {
   "cell_type": "markdown",
   "metadata": {},
   "source": [
    "# Check what location type of sensor information is available in monthly count\n"
   ]
  },
  {
   "cell_type": "code",
   "execution_count": 30,
   "metadata": {},
   "outputs": [
    {
     "name": "stdout",
     "output_type": "stream",
     "text": [
      "+-------------+--------+\n",
      "|location_type|count(1)|\n",
      "+-------------+--------+\n",
      "|Outdoor      |73      |\n",
      "+-------------+--------+\n",
      "\n"
     ]
    }
   ],
   "source": [
    "spark.sql(\"\"\"select distinct(location_type),count(*) from pd_cnt_loctn_vw where location_id in\n",
    "            (select distinct(Sensor_ID) from pd_cnt_mnthly_cnt_vw) group by location_type \"\"\" ).show(truncate = False)"
   ]
  },
  {
   "cell_type": "code",
   "execution_count": null,
   "metadata": {},
   "outputs": [],
   "source": []
  },
  {
   "cell_type": "code",
   "execution_count": null,
   "metadata": {},
   "outputs": [],
   "source": []
  },
  {
   "cell_type": "markdown",
   "metadata": {},
   "source": [
    "# Top 10 (most pedestrians) locations by day\n"
   ]
  },
  {
   "cell_type": "code",
   "execution_count": 31,
   "metadata": {},
   "outputs": [
    {
     "name": "stdout",
     "output_type": "stream",
     "text": [
      "+--------+--------+-------------------------------------+\n",
      "|Day     |cnt     |Sensor_Name                          |\n",
      "+--------+--------+-------------------------------------+\n",
      "|Friday  |2734124 |Lonsdale St-Spring St (West)         |\n",
      "|Friday  |1143168 |QVM-Queen St (East)                  |\n",
      "|Thursday|4974336 |Melbourne Central-Elizabeth St (East)|\n",
      "|Saturday|512529  |Flinders St - ACMI                   |\n",
      "|Sunday  |3433937 |Collins St (North)                   |\n",
      "|Saturday|10583641|Flinders St-Elizabeth St (East)      |\n",
      "|Monday  |2058517 |Bourke St Bridge                     |\n",
      "|Thursday|60500   |Macaulay Rd-Bellair St               |\n",
      "|Sunday  |3874672 |Chinatown-Lt Bourke St (South)       |\n",
      "|Sunday  |169513  |Pelham St (South)                    |\n",
      "|Friday  |890987  |Swanston St - City Square            |\n",
      "|Sunday  |241271  |Flinders Ln -Degraves St (South)     |\n",
      "|Friday  |18753194|Princes Bridge                       |\n",
      "|Friday  |13313671|Spencer St-Collins St (North)        |\n",
      "|Monday  |1825049 |Alfred Place                         |\n",
      "|Thursday|15999338|Princes Bridge                       |\n",
      "|Sunday  |39191   |Errol St (West)                      |\n",
      "|Friday  |70151   |Royal Pde - Grattan St               |\n",
      "|Saturday|26013   |Royal Pde - Grattan St               |\n",
      "|Thursday|364854  |Flinders Ln - Degraves St (South)    |\n",
      "+--------+--------+-------------------------------------+\n",
      "only showing top 20 rows\n",
      "\n"
     ]
    }
   ],
   "source": [
    "# Check count of sensor name on particular Day)\n",
    "spark.sql(\"select Day,cast(sum(Hourly_Counts) as integer) as cnt  ,Sensor_Name from pd_cnt_mnthly_cnt_vw group by Day,Sensor_Name\").show(truncate = False)"
   ]
  },
  {
   "cell_type": "code",
   "execution_count": 32,
   "metadata": {},
   "outputs": [
    {
     "name": "stdout",
     "output_type": "stream",
     "text": [
      "+---------+---------+---------------------------------+--------+---+\n",
      "|Day      |Sensor_ID|Sensor_Name                      |Counts  |rn |\n",
      "+---------+---------+---------------------------------+--------+---+\n",
      "|Wednesday|4        |Town Hall (West)                 |20466895|1  |\n",
      "|Wednesday|6        |Flinders Street Station Underpass|19366400|2  |\n",
      "|Wednesday|3        |Melbourne Central                |17046228|3  |\n",
      "|Wednesday|5        |Princes Bridge                   |15887703|4  |\n",
      "|Wednesday|2        |Bourke Street Mall (South)       |15560927|5  |\n",
      "|Wednesday|1        |Bourke Street Mall (North)       |15352588|6  |\n",
      "|Wednesday|24       |Spencer St-Collins St (North)    |13272424|7  |\n",
      "|Wednesday|22       |Flinders St-Elizabeth St (East)  |12031778|8  |\n",
      "|Wednesday|15       |State Library                    |11000867|9  |\n",
      "|Wednesday|13       |Flagstaff Station                |10553562|10 |\n",
      "|Tuesday  |4        |Town Hall (West)                 |19567332|1  |\n",
      "|Tuesday  |6        |Flinders Street Station Underpass|18812466|2  |\n",
      "|Tuesday  |3        |Melbourne Central                |16439902|3  |\n",
      "|Tuesday  |5        |Princes Bridge                   |14667713|4  |\n",
      "|Tuesday  |2        |Bourke Street Mall (South)       |14637139|5  |\n",
      "|Tuesday  |1        |Bourke Street Mall (North)       |14570766|6  |\n",
      "|Tuesday  |24       |Spencer St-Collins St (North)    |12881571|7  |\n",
      "|Tuesday  |22       |Flinders St-Elizabeth St (East)  |11864474|8  |\n",
      "|Tuesday  |15       |State Library                    |10617852|9  |\n",
      "|Tuesday  |13       |Flagstaff Station                |10430342|10 |\n",
      "+---------+---------+---------------------------------+--------+---+\n",
      "only showing top 20 rows\n",
      "\n"
     ]
    }
   ],
   "source": [
    "# Top 10 Sensor name by Day\n",
    "df_most_pd_sensr_nm = spark.sql(\"select * from (select *, row_number() over(partition by Day order by Counts desc) as \\\n",
    "rn from  (select Day, Sensor_ID, Sensor_Name,cast(sum(Hourly_Counts) as integer) as Counts from pd_cnt_mnthly_cnt_vw group by Day, \\\n",
    "Sensor_Name,Sensor_ID)as t) as t2 where t2.rn < 11 \")\n",
    "df_most_pd_sensr_nm.show(truncate= False)"
   ]
  },
  {
   "cell_type": "code",
   "execution_count": 33,
   "metadata": {},
   "outputs": [
    {
     "name": "stdout",
     "output_type": "stream",
     "text": [
      "+---------+---------+--------------------+--------+---+-----------+--------------------+-----------+-----------------+-------------------+-------------+------+-----------+-----------+------------+------------+--------------------+\n",
      "|      Day|Sensor_ID|         Sensor_Name|  Counts| rn|location_id|  Sensor_description|sensor_name|Installation_date|               Note|location_type|Status|Direction_1|Direction_2|    Latitude|   Longitude|            Location|\n",
      "+---------+---------+--------------------+--------+---+-----------+--------------------+-----------+-----------------+-------------------+-------------+------+-----------+-----------+------------+------------+--------------------+\n",
      "|Wednesday|        4|    Town Hall (West)|20466895|  1|          4|    Town Hall (West)|   Swa123_T|       2009-03-23|               null|      Outdoor|     A|      North|      South|-37.81487988| 144.9660878|-37.81487988, 144...|\n",
      "|Wednesday|        6|Flinders Street S...|19366400|  2|          6|Flinders Street S...|     FliS_T|       2009-03-25|Upgraded on 8/09/21|      Outdoor|     A|      North|      South|-37.81911705|144.96558255|-37.81911705, 144...|\n",
      "|Wednesday|        3|   Melbourne Central|17046228|  3|          3|   Melbourne Central|   Swa295_T|       2009-03-25|               null|      Outdoor|     A|      North|      South|-37.81101524|144.96429485|-37.81101524, 144...|\n",
      "|Wednesday|        5|      Princes Bridge|15887703|  4|          5|      Princes Bridge|    PriNW_T|       2009-03-26|               null|      Outdoor|     A|      North|      South|-37.81874249|144.96787656|-37.81874249, 144...|\n",
      "|Wednesday|        2|Bourke Street Mal...|15560927|  5|          2|Bourke Street Mal...|   Bou283_T|       2009-03-30|               null|      Outdoor|     A|       East|       West|-37.81380668|144.96516718|-37.81380668, 144...|\n",
      "|Wednesday|        1|Bourke Street Mal...|15352588|  6|          1|Bourke Street Mal...|   Bou292_T|       2009-03-24|               null|      Outdoor|     A|       East|       West|-37.81349441|144.96515323|-37.81349441, 144...|\n",
      "|Wednesday|       24|Spencer St-Collin...|13272424|  7|         24|Spencer St-Collin...|   Col620_T|       2013-09-02|               null|      Outdoor|     A|       East|       West|-37.81887963|144.95449198|-37.81887963, 144...|\n",
      "|Wednesday|       22|Flinders St-Eliza...|12031778|  8|       null|                null|       null|             null|               null|         null|  null|       null|       null|        null|        null|                null|\n",
      "|Wednesday|       15|       State Library|11000867|  9|       null|                null|       null|             null|               null|         null|  null|       null|       null|        null|        null|                null|\n",
      "|Wednesday|       13|   Flagstaff Station|10553562| 10|       null|                null|       null|             null|               null|         null|  null|       null|       null|        null|        null|                null|\n",
      "|  Tuesday|        4|    Town Hall (West)|19567332|  1|          4|    Town Hall (West)|   Swa123_T|       2009-03-23|               null|      Outdoor|     A|      North|      South|-37.81487988| 144.9660878|-37.81487988, 144...|\n",
      "|  Tuesday|        6|Flinders Street S...|18812466|  2|          6|Flinders Street S...|     FliS_T|       2009-03-25|Upgraded on 8/09/21|      Outdoor|     A|      North|      South|-37.81911705|144.96558255|-37.81911705, 144...|\n",
      "|  Tuesday|        3|   Melbourne Central|16439902|  3|          3|   Melbourne Central|   Swa295_T|       2009-03-25|               null|      Outdoor|     A|      North|      South|-37.81101524|144.96429485|-37.81101524, 144...|\n",
      "|  Tuesday|        5|      Princes Bridge|14667713|  4|          5|      Princes Bridge|    PriNW_T|       2009-03-26|               null|      Outdoor|     A|      North|      South|-37.81874249|144.96787656|-37.81874249, 144...|\n",
      "|  Tuesday|        2|Bourke Street Mal...|14637139|  5|          2|Bourke Street Mal...|   Bou283_T|       2009-03-30|               null|      Outdoor|     A|       East|       West|-37.81380668|144.96516718|-37.81380668, 144...|\n",
      "|  Tuesday|        1|Bourke Street Mal...|14570766|  6|          1|Bourke Street Mal...|   Bou292_T|       2009-03-24|               null|      Outdoor|     A|       East|       West|-37.81349441|144.96515323|-37.81349441, 144...|\n",
      "|  Tuesday|       24|Spencer St-Collin...|12881571|  7|         24|Spencer St-Collin...|   Col620_T|       2013-09-02|               null|      Outdoor|     A|       East|       West|-37.81887963|144.95449198|-37.81887963, 144...|\n",
      "|  Tuesday|       22|Flinders St-Eliza...|11864474|  8|       null|                null|       null|             null|               null|         null|  null|       null|       null|        null|        null|                null|\n",
      "|  Tuesday|       15|       State Library|10617852|  9|       null|                null|       null|             null|               null|         null|  null|       null|       null|        null|        null|                null|\n",
      "|  Tuesday|       13|   Flagstaff Station|10430342| 10|       null|                null|       null|             null|               null|         null|  null|       null|       null|        null|        null|                null|\n",
      "+---------+---------+--------------------+--------+---+-----------+--------------------+-----------+-----------------+-------------------+-------------+------+-----------+-----------+------------+------------+--------------------+\n",
      "only showing top 20 rows\n",
      "\n"
     ]
    }
   ],
   "source": [
    "# Joining location dataframe to find the location\n",
    "df_pd_loctn = df_most_pd_sensr_nm.join(df_pd_cnt_loctn, [lower(trim(df_pd_cnt_loctn['location_id']))==lower(trim(df_most_pd_sensr_nm['Sensor_ID']))] ,'left')\n",
    "df_pd_loctn.show()"
   ]
  },
  {
   "cell_type": "code",
   "execution_count": 34,
   "metadata": {},
   "outputs": [
    {
     "name": "stdout",
     "output_type": "stream",
     "text": [
      "+------+---------+---------------------------------+--------------------------+--------+---+\n",
      "|Day   |Sensor_ID|Sensor_Name                      |Location                  |Counts  |rn |\n",
      "+------+---------+---------------------------------+--------------------------+--------+---+\n",
      "|Friday|4        |Town Hall (West)                 |-37.81487988, 144.9660878 |24519747|1  |\n",
      "|Friday|6        |Flinders Street Station Underpass|-37.81911705, 144.96558255|21619844|2  |\n",
      "|Friday|3        |Melbourne Central                |-37.81101524, 144.96429485|20337683|3  |\n",
      "|Friday|2        |Bourke Street Mall (South)       |-37.81380668, 144.96516718|19078538|4  |\n",
      "|Friday|5        |Princes Bridge                   |-37.81874249, 144.96787656|18753194|5  |\n",
      "|Friday|1        |Bourke Street Mall (North)       |-37.81349441, 144.96515323|18744041|6  |\n",
      "|Friday|24       |Spencer St-Collins St (North)    |-37.81887963, 144.95449198|13313671|7  |\n",
      "|Friday|22       |Flinders St-Elizabeth St (East)  |null                      |12619633|8  |\n",
      "|Friday|15       |State Library                    |null                      |12265360|9  |\n",
      "|Friday|35       |Southbank                        |-37.82017828, 144.96508877|11504948|10 |\n",
      "|Monday|4        |Town Hall (West)                 |-37.81487988, 144.9660878 |19415511|1  |\n",
      "|Monday|6        |Flinders Street Station Underpass|-37.81911705, 144.96558255|18070451|2  |\n",
      "|Monday|3        |Melbourne Central                |-37.81101524, 144.96429485|15949540|3  |\n",
      "|Monday|2        |Bourke Street Mall (South)       |-37.81380668, 144.96516718|14904297|4  |\n",
      "|Monday|5        |Princes Bridge                   |-37.81874249, 144.96787656|14800602|5  |\n",
      "|Monday|1        |Bourke Street Mall (North)       |-37.81349441, 144.96515323|14525517|6  |\n",
      "|Monday|24       |Spencer St-Collins St (North)    |-37.81887963, 144.95449198|12098309|7  |\n",
      "|Monday|22       |Flinders St-Elizabeth St (East)  |null                      |11537518|8  |\n",
      "|Monday|15       |State Library                    |null                      |10339353|9  |\n",
      "|Monday|13       |Flagstaff Station                |null                      |9654896 |10 |\n",
      "+------+---------+---------------------------------+--------------------------+--------+---+\n",
      "only showing top 20 rows\n",
      "\n"
     ]
    }
   ],
   "source": [
    "# Selecting only few columns\n",
    "df_pd_loctn.select('Day','Sensor_ID', df_most_pd_sensr_nm.Sensor_Name,'Location','Counts','rn').orderBy(asc('Day'),asc('rn')).show(truncate = False)"
   ]
  },
  {
   "cell_type": "markdown",
   "metadata": {},
   "source": [
    "# Verifying the Result"
   ]
  },
  {
   "cell_type": "code",
   "execution_count": 35,
   "metadata": {},
   "outputs": [
    {
     "name": "stdout",
     "output_type": "stream",
     "text": [
      "+--------------+--------+\n",
      "|   Sensor_Name|  Counts|\n",
      "+--------------+--------+\n",
      "|Princes Bridge|15887703|\n",
      "+--------------+--------+\n",
      "\n"
     ]
    }
   ],
   "source": [
    "spark.sql(\"select 'Princes Bridge' as Sensor_Name, cast(sum(Hourly_Counts) as integer) as Counts from pd_cnt_mnthly_cnt_vw where Sensor_Name = 'Princes Bridge' and Day = 'Wednesday' \").show()"
   ]
  },
  {
   "cell_type": "markdown",
   "metadata": {},
   "source": [
    "# Top 10 (most pedestrians) locations by month\n"
   ]
  },
  {
   "cell_type": "code",
   "execution_count": 36,
   "metadata": {},
   "outputs": [
    {
     "name": "stdout",
     "output_type": "stream",
     "text": [
      "+--------+---------+---------------------------------+--------+---+\n",
      "|Month   |Sensor_ID|Sensor_Name                      |Counts  |rn |\n",
      "+--------+---------+---------------------------------+--------+---+\n",
      "|July    |4        |Town Hall (West)                 |12555809|1  |\n",
      "|July    |3        |Melbourne Central                |11224490|2  |\n",
      "|July    |6        |Flinders Street Station Underpass|10808119|3  |\n",
      "|July    |1        |Bourke Street Mall (North)       |9677482 |4  |\n",
      "|July    |2        |Bourke Street Mall (South)       |9499308 |5  |\n",
      "|July    |5        |Princes Bridge                   |9159764 |6  |\n",
      "|July    |24       |Spencer St-Collins St (North)    |6588137 |7  |\n",
      "|July    |15       |State Library                    |6434716 |8  |\n",
      "|July    |35       |Southbank                        |5903894 |9  |\n",
      "|July    |22       |Flinders St-Elizabeth St (East)  |5883997 |10 |\n",
      "|November|4        |Town Hall (West)                 |12136661|1  |\n",
      "|November|6        |Flinders Street Station Underpass|10598560|2  |\n",
      "|November|2        |Bourke Street Mall (South)       |9772438 |3  |\n",
      "|November|3        |Melbourne Central                |9752026 |4  |\n",
      "|November|5        |Princes Bridge                   |8942629 |5  |\n",
      "|November|1        |Bourke Street Mall (North)       |8871745 |6  |\n",
      "|November|22       |Flinders St-Elizabeth St (East)  |7197048 |7  |\n",
      "|November|24       |Spencer St-Collins St (North)    |6661345 |8  |\n",
      "|November|15       |State Library                    |6630549 |9  |\n",
      "|November|35       |Southbank                        |5660775 |10 |\n",
      "|February|4        |Town Hall (West)                 |11156945|1  |\n",
      "|February|6        |Flinders Street Station Underpass|10292516|2  |\n",
      "|February|5        |Princes Bridge                   |9493960 |3  |\n",
      "|February|3        |Melbourne Central                |9004266 |4  |\n",
      "|February|1        |Bourke Street Mall (North)       |8335328 |5  |\n",
      "+--------+---------+---------------------------------+--------+---+\n",
      "only showing top 25 rows\n",
      "\n"
     ]
    }
   ],
   "source": [
    "df_most_pd_sensr_nm_mnth =spark.sql(\"select * from (select *, row_number() over(partition by Month order by Counts desc) as \\\n",
    "rn from  (select Month,Sensor_ID,Sensor_Name,cast(sum(Hourly_Counts) as integer) as Counts from pd_cnt_mnthly_cnt_vw group by Month, \\\n",
    "Sensor_Name,Sensor_ID)as t) as t2 where t2.rn < 11 \")\n",
    "df_most_pd_sensr_nm_mnth.show(25,truncate = False)"
   ]
  },
  {
   "cell_type": "code",
   "execution_count": 37,
   "metadata": {},
   "outputs": [
    {
     "name": "stdout",
     "output_type": "stream",
     "text": [
      "+--------+---------+--------------------+--------+---+-----------+--------------------+-----------+-----------------+--------------------+-------------+------+-----------+-----------+------------+------------+--------------------+\n",
      "|   Month|Sensor_ID|         Sensor_Name|  Counts| rn|location_id|  Sensor_description|sensor_name|Installation_date|                Note|location_type|Status|Direction_1|Direction_2|    Latitude|   Longitude|            Location|\n",
      "+--------+---------+--------------------+--------+---+-----------+--------------------+-----------+-----------------+--------------------+-------------+------+-----------+-----------+------------+------------+--------------------+\n",
      "|    July|        4|    Town Hall (West)|12555809|  1|          4|    Town Hall (West)|   Swa123_T|       2009-03-23|                null|      Outdoor|     A|      North|      South|-37.81487988| 144.9660878|-37.81487988, 144...|\n",
      "|    July|        3|   Melbourne Central|11224490|  2|          3|   Melbourne Central|   Swa295_T|       2009-03-25|                null|      Outdoor|     A|      North|      South|-37.81101524|144.96429485|-37.81101524, 144...|\n",
      "|    July|        6|Flinders Street S...|10808119|  3|          6|Flinders Street S...|     FliS_T|       2009-03-25| Upgraded on 8/09/21|      Outdoor|     A|      North|      South|-37.81911705|144.96558255|-37.81911705, 144...|\n",
      "|    July|        1|Bourke Street Mal...| 9677482|  4|          1|Bourke Street Mal...|   Bou292_T|       2009-03-24|                null|      Outdoor|     A|       East|       West|-37.81349441|144.96515323|-37.81349441, 144...|\n",
      "|    July|        2|Bourke Street Mal...| 9499308|  5|          2|Bourke Street Mal...|   Bou283_T|       2009-03-30|                null|      Outdoor|     A|       East|       West|-37.81380668|144.96516718|-37.81380668, 144...|\n",
      "|    July|        5|      Princes Bridge| 9159764|  6|          5|      Princes Bridge|    PriNW_T|       2009-03-26|                null|      Outdoor|     A|      North|      South|-37.81874249|144.96787656|-37.81874249, 144...|\n",
      "|    July|       24|Spencer St-Collin...| 6588137|  7|         24|Spencer St-Collin...|   Col620_T|       2013-09-02|                null|      Outdoor|     A|       East|       West|-37.81887963|144.95449198|-37.81887963, 144...|\n",
      "|    July|       15|       State Library| 6434716|  8|       null|                null|       null|             null|                null|         null|  null|       null|       null|        null|        null|                null|\n",
      "|    July|       35|           Southbank| 5903894|  9|         35|           Southbank|   SouthB_T|       2016-04-11|Device replaced w...|      Outdoor|     A|       East|       West|-37.82017828|144.96508877|-37.82017828, 144...|\n",
      "|    July|       22|Flinders St-Eliza...| 5883997| 10|       null|                null|       null|             null|                null|         null|  null|       null|       null|        null|        null|                null|\n",
      "|November|        4|    Town Hall (West)|12136661|  1|          4|    Town Hall (West)|   Swa123_T|       2009-03-23|                null|      Outdoor|     A|      North|      South|-37.81487988| 144.9660878|-37.81487988, 144...|\n",
      "|November|        6|Flinders Street S...|10598560|  2|          6|Flinders Street S...|     FliS_T|       2009-03-25| Upgraded on 8/09/21|      Outdoor|     A|      North|      South|-37.81911705|144.96558255|-37.81911705, 144...|\n",
      "|November|        2|Bourke Street Mal...| 9772438|  3|          2|Bourke Street Mal...|   Bou283_T|       2009-03-30|                null|      Outdoor|     A|       East|       West|-37.81380668|144.96516718|-37.81380668, 144...|\n",
      "|November|        3|   Melbourne Central| 9752026|  4|          3|   Melbourne Central|   Swa295_T|       2009-03-25|                null|      Outdoor|     A|      North|      South|-37.81101524|144.96429485|-37.81101524, 144...|\n",
      "|November|        5|      Princes Bridge| 8942629|  5|          5|      Princes Bridge|    PriNW_T|       2009-03-26|                null|      Outdoor|     A|      North|      South|-37.81874249|144.96787656|-37.81874249, 144...|\n",
      "|November|        1|Bourke Street Mal...| 8871745|  6|          1|Bourke Street Mal...|   Bou292_T|       2009-03-24|                null|      Outdoor|     A|       East|       West|-37.81349441|144.96515323|-37.81349441, 144...|\n",
      "|November|       22|Flinders St-Eliza...| 7197048|  7|       null|                null|       null|             null|                null|         null|  null|       null|       null|        null|        null|                null|\n",
      "|November|       24|Spencer St-Collin...| 6661345|  8|         24|Spencer St-Collin...|   Col620_T|       2013-09-02|                null|      Outdoor|     A|       East|       West|-37.81887963|144.95449198|-37.81887963, 144...|\n",
      "|November|       15|       State Library| 6630549|  9|       null|                null|       null|             null|                null|         null|  null|       null|       null|        null|        null|                null|\n",
      "|November|       35|           Southbank| 5660775| 10|         35|           Southbank|   SouthB_T|       2016-04-11|Device replaced w...|      Outdoor|     A|       East|       West|-37.82017828|144.96508877|-37.82017828, 144...|\n",
      "+--------+---------+--------------------+--------+---+-----------+--------------------+-----------+-----------------+--------------------+-------------+------+-----------+-----------+------------+------------+--------------------+\n",
      "only showing top 20 rows\n",
      "\n"
     ]
    }
   ],
   "source": [
    "# Joining location dataframe to find the location\n",
    "df_pd_loctn_mnth = df_most_pd_sensr_nm_mnth.join(df_pd_cnt_loctn, [lower(trim(df_pd_cnt_loctn['location_id']))==lower(trim(df_most_pd_sensr_nm_mnth['Sensor_ID']))] ,'left')\n",
    "df_pd_loctn_mnth.show()"
   ]
  },
  {
   "cell_type": "code",
   "execution_count": 38,
   "metadata": {},
   "outputs": [
    {
     "name": "stdout",
     "output_type": "stream",
     "text": [
      "+------+---------+---------------------------------+--------------------------+--------+---+\n",
      "|Month |Sensor_ID|Sensor_Name                      |Location                  |Counts  |rn |\n",
      "+------+---------+---------------------------------+--------------------------+--------+---+\n",
      "|April |4        |Town Hall (West)                 |-37.81487988, 144.9660878 |12463968|1  |\n",
      "|April |3        |Melbourne Central                |-37.81101524, 144.96429485|10862976|2  |\n",
      "|April |5        |Princes Bridge                   |-37.81874249, 144.96787656|10660422|3  |\n",
      "|April |6        |Flinders Street Station Underpass|-37.81911705, 144.96558255|10135936|4  |\n",
      "|April |1        |Bourke Street Mall (North)       |-37.81349441, 144.96515323|9194871 |5  |\n",
      "|April |2        |Bourke Street Mall (South)       |-37.81380668, 144.96516718|8815472 |6  |\n",
      "|April |22       |Flinders St-Elizabeth St (East)  |null                      |7561340 |7  |\n",
      "|April |24       |Spencer St-Collins St (North)    |-37.81887963, 144.95449198|6215026 |8  |\n",
      "|April |15       |State Library                    |null                      |6159571 |9  |\n",
      "|April |28       |The Arts Centre                  |-37.82129925, 144.96879309|6090009 |10 |\n",
      "|August|4        |Town Hall (West)                 |-37.81487988, 144.9660878 |11675587|1  |\n",
      "|August|3        |Melbourne Central                |-37.81101524, 144.96429485|11233687|2  |\n",
      "|August|6        |Flinders Street Station Underpass|-37.81911705, 144.96558255|9810226 |3  |\n",
      "|August|1        |Bourke Street Mall (North)       |-37.81349441, 144.96515323|8869257 |4  |\n",
      "|August|2        |Bourke Street Mall (South)       |-37.81380668, 144.96516718|8675494 |5  |\n",
      "|August|5        |Princes Bridge                   |-37.81874249, 144.96787656|8418029 |6  |\n",
      "|August|24       |Spencer St-Collins St (North)    |-37.81887963, 144.95449198|6496037 |7  |\n",
      "|August|15       |State Library                    |null                      |6404288 |8  |\n",
      "|August|35       |Southbank                        |-37.82017828, 144.96508877|5298037 |9  |\n",
      "|August|28       |The Arts Centre                  |-37.82129925, 144.96879309|4990803 |10 |\n",
      "+------+---------+---------------------------------+--------------------------+--------+---+\n",
      "only showing top 20 rows\n",
      "\n"
     ]
    }
   ],
   "source": [
    "# Selecting only few columns\n",
    "df_pd_loctn_mnth.select('Month','Sensor_ID', df_most_pd_sensr_nm_mnth.Sensor_Name,'Location','Counts','rn').orderBy(asc('Month'),asc('rn')).show(truncate = False)"
   ]
  },
  {
   "cell_type": "markdown",
   "metadata": {},
   "source": [
    "# Verifying the Result"
   ]
  },
  {
   "cell_type": "code",
   "execution_count": 39,
   "metadata": {},
   "outputs": [
    {
     "name": "stdout",
     "output_type": "stream",
     "text": [
      "+--------------+-------+\n",
      "|   Sensor_Name| Counts|\n",
      "+--------------+-------+\n",
      "|Princes Bridge|9159764|\n",
      "+--------------+-------+\n",
      "\n"
     ]
    }
   ],
   "source": [
    "spark.sql(\"select 'Princes Bridge' as Sensor_Name, cast(sum(Hourly_Counts) as integer) as Counts from pd_cnt_mnthly_cnt_vw where Sensor_Name = 'Princes Bridge' and Month = 'July' \").show()"
   ]
  },
  {
   "cell_type": "markdown",
   "metadata": {},
   "source": [
    "# Which location has shown most decline due to lockdowns in last 3 years\n"
   ]
  },
  {
   "cell_type": "code",
   "execution_count": 40,
   "metadata": {},
   "outputs": [
    {
     "name": "stdout",
     "output_type": "stream",
     "text": [
      "+-------+--------------------+----+--------+-----+------+----+---------+--------------------+-------------+\n",
      "|     ID|           Date_Time|Year|   Month|Mdate|   Day|Time|Sensor_ID|         Sensor_Name|Hourly_Counts|\n",
      "+-------+--------------------+----+--------+-----+------+----+---------+--------------------+-------------+\n",
      "|2887628|November 01, 2019...|2019|November|    1|Friday|  17|       34|Flinders St-Spark La|          300|\n",
      "|2887629|November 01, 2019...|2019|November|    1|Friday|  17|       39|        Alfred Place|          604|\n",
      "|2887630|November 01, 2019...|2019|November|    1|Friday|  17|       37|     Lygon St (East)|          216|\n",
      "|2887631|November 01, 2019...|2019|November|    1|Friday|  17|       40|Lonsdale St-Sprin...|          627|\n",
      "|2887632|November 01, 2019...|2019|November|    1|Friday|  17|       36|     Queen St (West)|          774|\n",
      "|2887633|November 01, 2019...|2019|November|    1|Friday|  17|       29|St Kilda Rd-Alexa...|          644|\n",
      "|2887634|November 01, 2019...|2019|November|    1|Friday|  17|       42|Grattan St-Swanst...|          453|\n",
      "|2887635|November 01, 2019...|2019|November|    1|Friday|  17|       43|Monash Rd-Swansto...|          387|\n",
      "|2887636|November 01, 2019...|2019|November|    1|Friday|  17|       44|Tin Alley-Swansto...|           27|\n",
      "|2887637|November 01, 2019...|2019|November|    1|Friday|  17|       35|           Southbank|         2691|\n",
      "|2887638|November 01, 2019...|2019|November|    1|Friday|  17|       45|Little Collins St...|         2173|\n",
      "|2887639|November 01, 2019...|2019|November|    1|Friday|  17|       46|       Pelham St (S)|          203|\n",
      "|2887640|November 01, 2019...|2019|November|    1|Friday|  17|       47|Melbourne Central...|         2354|\n",
      "|2887641|November 01, 2019...|2019|November|    1|Friday|  17|       48| QVM-Queen St (East)|          358|\n",
      "|2887642|November 01, 2019...|2019|November|    1|Friday|  17|       49|QVM-Therry St (So...|          161|\n",
      "|2887643|November 01, 2019...|2019|November|    1|Friday|  17|       50|Faraday St-Lygon ...|          502|\n",
      "|2887644|November 01, 2019...|2019|November|    1|Friday|  17|       51|QVM-Franklin St (...|          159|\n",
      "|2887645|November 01, 2019...|2019|November|    1|Friday|  17|       52|Elizabeth St-Lons...|          914|\n",
      "|2887646|November 01, 2019...|2019|November|    1|Friday|  17|       54|Lincoln-Swanston(...|          276|\n",
      "|2887647|November 01, 2019...|2019|November|    1|Friday|  17|       55|Elizabeth St-La T...|         2070|\n",
      "+-------+--------------------+----+--------+-----+------+----+---------+--------------------+-------------+\n",
      "only showing top 20 rows\n",
      "\n"
     ]
    }
   ],
   "source": [
    "spark.sql(\"select * from pd_cnt_mnthly_cnt_vw\").show()"
   ]
  },
  {
   "cell_type": "code",
   "execution_count": 41,
   "metadata": {},
   "outputs": [],
   "source": [
    "# Filtering the records on the latest year data-treating this as current year and store the result in current_year_count\n",
    "df_current_year_count = spark.sql(\"\"\"\n",
    "    select Sensor_ID, Sensor_Name, sum(Hourly_Counts) AS current_count, Year as current_year from pd_cnt_mnthly_cnt_vw where Year in (select max(Year)\n",
    "    FROM pd_cnt_mnthly_cnt_vw )  group by Sensor_Name, Year, Sensor_ID  \n",
    "\"\"\")"
   ]
  },
  {
   "cell_type": "code",
   "execution_count": 42,
   "metadata": {},
   "outputs": [
    {
     "name": "stdout",
     "output_type": "stream",
     "text": [
      "+---------+--------------------+-------------+------------+\n",
      "|Sensor_ID|         Sensor_Name|current_count|current_year|\n",
      "+---------+--------------------+-------------+------------+\n",
      "|       48| QVM-Queen St (East)|    1174183.0|        2022|\n",
      "|        5|      Princes Bridge|    6202149.0|        2022|\n",
      "|       23|Spencer St-Collin...|    1558124.0|        2022|\n",
      "|        7|      Birrarung Marr|     116120.0|        2022|\n",
      "|       17|Collins Place (So...|    1709444.0|        2022|\n",
      "|       47|Melbourne Central...|    5380759.0|        2022|\n",
      "|       50|Faraday St-Lygon ...|    1527301.0|        2022|\n",
      "|       57|    Bourke St Bridge|    2149226.0|        2022|\n",
      "|       20|Chinatown-Lt Bour...|    1962723.0|        2022|\n",
      "|       68|Flinders Ln - Deg...|    1176823.0|        2022|\n",
      "|       19|Chinatown-Swansto...|    2640696.0|        2022|\n",
      "|       85| Macaulay Rd (North)|     571210.0|        2022|\n",
      "|       49|QVM-Therry St (So...|     935747.0|        2022|\n",
      "|        8|         Webb Bridge|    1112015.0|        2022|\n",
      "|       44|Tin Alley-Swansto...|     333599.0|        2022|\n",
      "|       51|QVM-Franklin St (...|     786825.0|        2022|\n",
      "|       72|  Flinders St - ACMI|    2261314.0|        2022|\n",
      "|       36|     Queen St (West)|    1350495.0|        2022|\n",
      "|       26|QV Market-Elizabe...|    2769978.0|        2022|\n",
      "|       55|Elizabeth St-La T...|     604091.0|        2022|\n",
      "+---------+--------------------+-------------+------------+\n",
      "only showing top 20 rows\n",
      "\n"
     ]
    }
   ],
   "source": [
    "df_current_year_count.show()"
   ]
  },
  {
   "cell_type": "code",
   "execution_count": 43,
   "metadata": {},
   "outputs": [],
   "source": [
    "#Subtract 3 years from the current year - and store the result in three_years_ago_count\n",
    "df_three_years_ago_count = spark.sql(\"\"\"\n",
    "     select Sensor_ID,Sensor_Name, sum(Hourly_Counts) AS old_count, Year as old_year from pd_cnt_mnthly_cnt_vw where Year in (select int(max(Year)-3)\n",
    "    FROM pd_cnt_mnthly_cnt_vw )  group by Sensor_Name, Year, Sensor_ID  \n",
    "\"\"\")"
   ]
  },
  {
   "cell_type": "code",
   "execution_count": 44,
   "metadata": {},
   "outputs": [
    {
     "name": "stdout",
     "output_type": "stream",
     "text": [
      "+---------+--------------------+-----------+--------+\n",
      "|Sensor_ID|         Sensor_Name|  old_count|old_year|\n",
      "+---------+--------------------+-----------+--------+\n",
      "|        4|    Town Hall (West)|1.2684222E7|    2019|\n",
      "|       31|     Lygon St (West)|  2113797.0|    2019|\n",
      "|       49|QVM-Therry St (So...|  1463333.0|    2019|\n",
      "|       29|St Kilda Rd-Alexa...|  3737463.0|    2019|\n",
      "|        5|      Princes Bridge|1.0817578E7|    2019|\n",
      "|       26|QV Market-Elizabe...|  5273517.0|    2019|\n",
      "|       46|       Pelham St (S)|   338969.0|    2019|\n",
      "|       36|     Queen St (West)|  2748477.0|    2019|\n",
      "|       17|Collins Place (So...|  4034128.0|    2019|\n",
      "|       37|     Lygon St (East)|  1262054.0|    2019|\n",
      "|       19|Chinatown-Swansto...|  5186631.0|    2019|\n",
      "|       45|Little Collins St...|  5116101.0|    2019|\n",
      "|       57|    Bourke St Bridge|  7236113.0|    2019|\n",
      "|       47|Melbourne Central...|  8429434.0|    2019|\n",
      "|       22|Flinders St-Eliza...| 1.393414E7|    2019|\n",
      "|       10|      Victoria Point|  1642705.0|    2019|\n",
      "|       15|       State Library|  7316594.0|    2019|\n",
      "|       35|           Southbank|1.0961596E7|    2019|\n",
      "|        1|Bourke Street Mal...|1.1637901E7|    2019|\n",
      "|       12|            New Quay|  2066180.0|    2019|\n",
      "+---------+--------------------+-----------+--------+\n",
      "only showing top 20 rows\n",
      "\n"
     ]
    }
   ],
   "source": [
    "df_three_years_ago_count.show()"
   ]
  },
  {
   "cell_type": "code",
   "execution_count": 45,
   "metadata": {},
   "outputs": [],
   "source": [
    "# Joined the current year and three years ago count \n",
    "df_joined_counts = df_current_year_count.join(df_three_years_ago_count, \"Sensor_ID\",\"inner\")"
   ]
  },
  {
   "cell_type": "code",
   "execution_count": 46,
   "metadata": {},
   "outputs": [
    {
     "name": "stdout",
     "output_type": "stream",
     "text": [
      "+---------+-------------------------------------+------------+-------------+-----------+--------+\n",
      "|Sensor_ID|Sensor_Name                          |current_year|current_count|old_count  |old_year|\n",
      "+---------+-------------------------------------+------------+-------------+-----------+--------+\n",
      "|51       |QVM-Franklin St (North)              |2022        |786825.0     |1160501.0  |2019    |\n",
      "|7        |Birrarung Marr                       |2022        |116120.0     |2136024.0  |2019    |\n",
      "|54       |Lincoln-Swanston(West)               |2022        |946127.0     |806012.0   |2019    |\n",
      "|54       |Lincoln-Swanston(West)               |2022        |946127.0     |597230.0   |2019    |\n",
      "|11       |Waterfront City                      |2022        |950956.0     |597321.0   |2019    |\n",
      "|29       |St Kilda Rd-Alexandra Gardens        |2022        |1944588.0    |3737463.0  |2019    |\n",
      "|42       |Grattan St-Swanston St (West)        |2022        |1145526.0    |2284048.0  |2019    |\n",
      "|3        |Melbourne Central                    |2022        |6897406.0    |9776584.0  |2019    |\n",
      "|30       |Lonsdale St (South)                  |2022        |2682095.0    |4606619.0  |2019    |\n",
      "|59       |Swanston St - RMIT Building 80       |2022        |3504220.0    |2385871.0  |2019    |\n",
      "|8        |Webb Bridge                          |2022        |1112015.0    |1685096.0  |2019    |\n",
      "|28       |The Arts Centre                      |2022        |4818008.0    |9725910.0  |2019    |\n",
      "|35       |Southbank                            |2022        |8737282.0    |1.0961596E7|2019    |\n",
      "|52       |Elizabeth St-Lonsdale St (South)     |2022        |729694.0     |3717187.0  |2019    |\n",
      "|47       |Melbourne Central-Elizabeth St (East)|2022        |5380759.0    |8429434.0  |2019    |\n",
      "|43       |Monash Rd-Swanston St (West)         |2022        |529477.0     |1624335.0  |2019    |\n",
      "|5        |Princes Bridge                       |2022        |6202149.0    |1.0817578E7|2019    |\n",
      "|31       |Lygon St (West)                      |2022        |1382816.0    |2113797.0  |2019    |\n",
      "|18       |Collins Place (North)                |2022        |552323.0     |3062127.0  |2019    |\n",
      "|27       |QV Market-Peel St                    |2022        |816886.0     |1197615.0  |2019    |\n",
      "+---------+-------------------------------------+------------+-------------+-----------+--------+\n",
      "only showing top 20 rows\n",
      "\n"
     ]
    }
   ],
   "source": [
    "#Print the dataframe\n",
    "df_joined_counts = df_joined_counts.select(df_current_year_count.Sensor_ID,df_current_year_count.Sensor_Name,'current_year','current_count','old_count','old_year')\n",
    "df_joined_counts.show(truncate = False)"
   ]
  },
  {
   "cell_type": "code",
   "execution_count": 47,
   "metadata": {},
   "outputs": [],
   "source": [
    "# Create 2 new columns - Count_diff- which shows the difference between 2 counts and Percentage_change - which calculates the change in Percentage\n",
    "df_joined_counts = df_joined_counts.withColumn(\"count_diff\", df_joined_counts[\"current_count\"] - df_joined_counts[\"old_count\"])\n",
    "df_joined_counts = df_joined_counts.withColumn(\"percent_change\", (df_joined_counts[\"count_diff\"]/df_joined_counts[\"old_count\"]) * 100)"
   ]
  },
  {
   "cell_type": "code",
   "execution_count": 48,
   "metadata": {},
   "outputs": [
    {
     "name": "stdout",
     "output_type": "stream",
     "text": [
      "+---------+-------------------------------------+------------+-------------+-----------+--------+----------+-------------------+\n",
      "|Sensor_ID|Sensor_Name                          |current_year|current_count|old_count  |old_year|count_diff|percent_change     |\n",
      "+---------+-------------------------------------+------------+-------------+-----------+--------+----------+-------------------+\n",
      "|51       |QVM-Franklin St (North)              |2022        |786825.0     |1160501.0  |2019    |-373676.0 |-32.19954140496217 |\n",
      "|7        |Birrarung Marr                       |2022        |116120.0     |2136024.0  |2019    |-2019904.0|-94.56373149365362 |\n",
      "|54       |Lincoln-Swanston(West)               |2022        |946127.0     |806012.0   |2019    |140115.0  |17.383736222289496 |\n",
      "|54       |Lincoln-Swanston(West)               |2022        |946127.0     |597230.0   |2019    |348897.0  |58.419201982485816 |\n",
      "|11       |Waterfront City                      |2022        |950956.0     |597321.0   |2019    |353635.0  |59.203510340336265 |\n",
      "|29       |St Kilda Rd-Alexandra Gardens        |2022        |1944588.0    |3737463.0  |2019    |-1792875.0|-47.97037455621634 |\n",
      "|42       |Grattan St-Swanston St (West)        |2022        |1145526.0    |2284048.0  |2019    |-1138522.0|-49.846675726604694|\n",
      "|3        |Melbourne Central                    |2022        |6897406.0    |9776584.0  |2019    |-2879178.0|-29.4497341811823  |\n",
      "|30       |Lonsdale St (South)                  |2022        |2682095.0    |4606619.0  |2019    |-1924524.0|-41.77736426650435 |\n",
      "|59       |Swanston St - RMIT Building 80       |2022        |3504220.0    |2385871.0  |2019    |1118349.0 |46.87382511460175  |\n",
      "|8        |Webb Bridge                          |2022        |1112015.0    |1685096.0  |2019    |-573081.0 |-34.00880424616758 |\n",
      "|28       |The Arts Centre                      |2022        |4818008.0    |9725910.0  |2019    |-4907902.0|-50.46213670494586 |\n",
      "|35       |Southbank                            |2022        |8737282.0    |1.0961596E7|2019    |-2224314.0|-20.291880853846468|\n",
      "|52       |Elizabeth St-Lonsdale St (South)     |2022        |729694.0     |3717187.0  |2019    |-2987493.0|-80.36972581686098 |\n",
      "|47       |Melbourne Central-Elizabeth St (East)|2022        |5380759.0    |8429434.0  |2019    |-3048675.0|-36.1670190430342  |\n",
      "|43       |Monash Rd-Swanston St (West)         |2022        |529477.0     |1624335.0  |2019    |-1094858.0|-67.40346049306332 |\n",
      "|5        |Princes Bridge                       |2022        |6202149.0    |1.0817578E7|2019    |-4615429.0|-42.66601082053672 |\n",
      "|31       |Lygon St (West)                      |2022        |1382816.0    |2113797.0  |2019    |-730981.0 |-34.581419123974534|\n",
      "|18       |Collins Place (North)                |2022        |552323.0     |3062127.0  |2019    |-2509804.0|-81.96276640387548 |\n",
      "|27       |QV Market-Peel St                    |2022        |816886.0     |1197615.0  |2019    |-380729.0 |-31.790600485130867|\n",
      "+---------+-------------------------------------+------------+-------------+-----------+--------+----------+-------------------+\n",
      "only showing top 20 rows\n",
      "\n"
     ]
    }
   ],
   "source": [
    "df_joined_counts.show(truncate = False)"
   ]
  },
  {
   "cell_type": "code",
   "execution_count": 49,
   "metadata": {},
   "outputs": [
    {
     "data": {
      "text/plain": [
       "-94.56373149365362"
      ]
     },
     "execution_count": 49,
     "metadata": {},
     "output_type": "execute_result"
    }
   ],
   "source": [
    "# Find the max declined Percentage\n",
    "min_percent_change = df_joined_counts.agg({\"percent_change\": \"min\"}).collect()[0][0]\n",
    "min_percent_change"
   ]
  },
  {
   "cell_type": "code",
   "execution_count": 50,
   "metadata": {},
   "outputs": [
    {
     "name": "stdout",
     "output_type": "stream",
     "text": [
      "+---------+--------------+------------+-------------+---------+--------+----------+------------------+\n",
      "|Sensor_ID|   Sensor_Name|current_year|current_count|old_count|old_year|count_diff|    percent_change|\n",
      "+---------+--------------+------------+-------------+---------+--------+----------+------------------+\n",
      "|        7|Birrarung Marr|        2022|     116120.0|2136024.0|    2019|-2019904.0|-94.56373149365362|\n",
      "+---------+--------------+------------+-------------+---------+--------+----------+------------------+\n",
      "\n"
     ]
    }
   ],
   "source": [
    "#Filter the record with the max declined percentage\n",
    "df_record_with_max_change = df_joined_counts.filter(df_joined_counts.percent_change == min_percent_change)\n",
    "df_record_with_max_change.show()"
   ]
  },
  {
   "cell_type": "code",
   "execution_count": 51,
   "metadata": {},
   "outputs": [
    {
     "name": "stdout",
     "output_type": "stream",
     "text": [
      "+---------+--------------+--------------------------+------------+-------------+--------+---------+----------+------------------+\n",
      "|Sensor_ID|Sensor_Name   |Location                  |current_year|current_count|old_year|old_count|count_diff|percent_change    |\n",
      "+---------+--------------+--------------------------+------------+-------------+--------+---------+----------+------------------+\n",
      "|7        |Birrarung Marr|-37.81862929, 144.97169395|2022        |116120.0     |2019    |2136024.0|-2019904.0|-94.56373149365362|\n",
      "+---------+--------------+--------------------------+------------+-------------+--------+---------+----------+------------------+\n",
      "\n"
     ]
    }
   ],
   "source": [
    "# Joining location dataframe to find the location\n",
    "df_pd_loctn_decline = df_record_with_max_change.join(df_pd_cnt_loctn, [lower(trim(df_pd_cnt_loctn['location_id']))==lower(trim(df_record_with_max_change['Sensor_ID']))] ,'left')\n",
    "df_pd_loctn_decline = df_pd_loctn_decline.select('Sensor_ID',df_record_with_max_change.Sensor_Name,'Location','current_year','current_count','old_year','old_count','count_diff','percent_change')\n",
    "df_pd_loctn_decline.show(truncate = False)"
   ]
  },
  {
   "cell_type": "markdown",
   "metadata": {},
   "source": [
    "# Verifying the result"
   ]
  },
  {
   "cell_type": "code",
   "execution_count": 52,
   "metadata": {},
   "outputs": [
    {
     "name": "stdout",
     "output_type": "stream",
     "text": [
      "+----+-----------------------------------------------+\n",
      "|Year|CAST(sum(CAST(Hourly_Counts AS DOUBLE)) AS INT)|\n",
      "+----+-----------------------------------------------+\n",
      "|2022|                                         116120|\n",
      "|2019|                                        2136024|\n",
      "+----+-----------------------------------------------+\n",
      "\n"
     ]
    }
   ],
   "source": [
    "#Check the count for year 2022 and 2019\n",
    "spark.sql(\"select Year,int(sum(Hourly_Counts)) from pd_cnt_mnthly_cnt_vw where Sensor_Name = 'Birrarung Marr' and Year in ('2022','2019') group by Year order by Year desc \").show()"
   ]
  },
  {
   "cell_type": "markdown",
   "metadata": {},
   "source": [
    "# Which location has most growth in last year"
   ]
  },
  {
   "cell_type": "code",
   "execution_count": 53,
   "metadata": {},
   "outputs": [],
   "source": [
    "df_one_year_ago_count = spark.sql(\"\"\"\n",
    "     select Sensor_ID,Sensor_Name, sum(Hourly_Counts) AS old_count, Year as old_year \n",
    "     from pd_cnt_mnthly_cnt_vw where Year in (select int(max(Year)-1)\n",
    "    FROM pd_cnt_mnthly_cnt_vw )  group by Sensor_Name, Year, Sensor_ID  \n",
    "\"\"\")"
   ]
  },
  {
   "cell_type": "code",
   "execution_count": 54,
   "metadata": {},
   "outputs": [
    {
     "name": "stdout",
     "output_type": "stream",
     "text": [
      "+---------+--------------------+---------+--------+\n",
      "|Sensor_ID|         Sensor_Name|old_count|old_year|\n",
      "+---------+--------------------+---------+--------+\n",
      "|       52|Elizabeth St-Lons...|1470418.0|    2021|\n",
      "|       11|     Waterfront City| 374339.0|    2021|\n",
      "|       64|Royal Pde - Gratt...|  51127.0|    2021|\n",
      "|        6|Flinders Street S...|4614701.0|    2021|\n",
      "|       54|Lincoln-Swanston(...| 501972.0|    2021|\n",
      "|       58|Bourke St - Spenc...|2316080.0|    2021|\n",
      "|       67|Flinders Ln - Deg...| 219014.0|    2021|\n",
      "|       57|    Bourke St Bridge|1758182.0|    2021|\n",
      "|       76|Macaulay Rd-Bella...| 387118.0|    2021|\n",
      "|       35|           Southbank|5173296.0|    2021|\n",
      "|       10|      Victoria Point| 309276.0|    2021|\n",
      "|       75|Spring St - Flind...|  35927.0|    2021|\n",
      "|        2|Bourke Street Mal...|3019402.0|    2021|\n",
      "|       75|Spring St- Flinde...| 245445.0|    2021|\n",
      "|       72|    Flinders St-ACMI|1308966.0|    2021|\n",
      "|        1|Bourke Street Mal...|5080187.0|    2021|\n",
      "|       51|QVM-Franklin St (...| 697752.0|    2021|\n",
      "|       30| Lonsdale St (South)|1997022.0|    2021|\n",
      "|       18|Collins Place (No...| 748805.0|    2021|\n",
      "|       69|Flinders Ln -Degr...| 620765.0|    2021|\n",
      "+---------+--------------------+---------+--------+\n",
      "only showing top 20 rows\n",
      "\n"
     ]
    }
   ],
   "source": [
    "df_one_year_ago_count.show()"
   ]
  },
  {
   "cell_type": "code",
   "execution_count": 55,
   "metadata": {},
   "outputs": [],
   "source": [
    "#Create a new data frame by joining with current year dataframe, \n",
    "# Later on create new columns Count difference and Percentage Change\n",
    "df_joined_counts_1 = df_current_year_count.join(df_one_year_ago_count, \"Sensor_ID\")\n",
    "df_joined_counts_1 = df_joined_counts_1.select(df_current_year_count.Sensor_ID,df_current_year_count.Sensor_Name,'current_year','current_count','old_count','old_year')\n",
    "df_joined_counts_1 = df_joined_counts_1.withColumn(\"count_diff\", df_joined_counts_1[\"current_count\"] - df_joined_counts_1[\"old_count\"])\n",
    "df_joined_counts_1 = df_joined_counts_1.withColumn(\"percent_change\", (df_joined_counts_1[\"count_diff\"]/df_joined_counts_1[\"old_count\"]) * 100)"
   ]
  },
  {
   "cell_type": "code",
   "execution_count": 56,
   "metadata": {},
   "outputs": [
    {
     "name": "stdout",
     "output_type": "stream",
     "text": [
      "+---------+-------------------------------------+------------+-------------+---------+--------+----------+-------------------+\n",
      "|Sensor_ID|Sensor_Name                          |current_year|current_count|old_count|old_year|count_diff|percent_change     |\n",
      "+---------+-------------------------------------+------------+-------------+---------+--------+----------+-------------------+\n",
      "|51       |QVM-Franklin St (North)              |2022        |786825.0     |697752.0 |2021    |89073.0   |12.765710452997627 |\n",
      "|7        |Birrarung Marr                       |2022        |116120.0     |1272681.0|2021    |-1156561.0|-90.8759539900415  |\n",
      "|54       |Lincoln-Swanston(West)               |2022        |946127.0     |501972.0 |2021    |444155.0  |88.48202688596176  |\n",
      "|11       |Waterfront City                      |2022        |950956.0     |374339.0 |2021    |576617.0  |154.0360475397968  |\n",
      "|29       |St Kilda Rd-Alexandra Gardens        |2022        |1944588.0    |1073213.0|2021    |871375.0  |81.19310891686925  |\n",
      "|69       |Flinders Ln - Degraves St (Crossing) |2022        |827503.0     |620765.0 |2021    |206738.0  |33.303746184143755 |\n",
      "|69       |Flinders Ln - Degraves St (Crossing) |2022        |827503.0     |78995.0  |2021    |748508.0  |947.5384518007468  |\n",
      "|42       |Grattan St-Swanston St (West)        |2022        |1145526.0    |604187.0 |2021    |541339.0  |89.59792249750491  |\n",
      "|73       |Bourke St - Spencer St (South)       |2022        |125493.0     |130735.0 |2021    |-5242.0   |-4.0096378169579685|\n",
      "|64       |Royal Pde - Grattan St               |2022        |385695.0     |51127.0  |2021    |334568.0  |654.3861364836583  |\n",
      "|64       |Royal Pde - Grattan St               |2022        |385695.0     |621425.0 |2021    |-235730.0 |-37.93378122862775 |\n",
      "|3        |Melbourne Central                    |2022        |6897406.0    |3327672.0|2021    |3569734.0 |107.27421452595087 |\n",
      "|30       |Lonsdale St (South)                  |2022        |2682095.0    |1997022.0|2021    |685073.0  |34.30472974258671  |\n",
      "|59       |Swanston St - RMIT Building 80       |2022        |3504220.0    |2011218.0|2021    |1493002.0 |74.23372304742698  |\n",
      "|8        |Webb Bridge                          |2022        |1112015.0    |1149161.0|2021    |-37146.0  |-3.232445236133144 |\n",
      "|28       |The Arts Centre                      |2022        |4818008.0    |3889449.0|2021    |928559.0  |23.87379292028254  |\n",
      "|35       |Southbank                            |2022        |8737282.0    |5173296.0|2021    |3563986.0 |68.89197911737507  |\n",
      "|52       |Elizabeth St-Lonsdale St (South)     |2022        |729694.0     |1470418.0|2021    |-740724.0 |-50.375063417341195|\n",
      "|71       |Westwood Place                       |2022        |239248.0     |261172.0 |2021    |-21924.0  |-8.394468013416446 |\n",
      "|47       |Melbourne Central-Elizabeth St (East)|2022        |5380759.0    |4080270.0|2021    |1300489.0 |31.872621174579134 |\n",
      "+---------+-------------------------------------+------------+-------------+---------+--------+----------+-------------------+\n",
      "only showing top 20 rows\n",
      "\n"
     ]
    }
   ],
   "source": [
    "df_joined_counts_1.show(truncate = False)"
   ]
  },
  {
   "cell_type": "code",
   "execution_count": 57,
   "metadata": {},
   "outputs": [
    {
     "data": {
      "text/plain": [
       "2233.360727061781"
      ]
     },
     "execution_count": 57,
     "metadata": {},
     "output_type": "execute_result"
    }
   ],
   "source": [
    "# Find the max Percentage change in last year\n",
    "max_percent_change = df_joined_counts_1.agg({\"percent_change\": \"max\"}).collect()[0][0]\n",
    "max_percent_change"
   ]
  },
  {
   "cell_type": "code",
   "execution_count": 58,
   "metadata": {},
   "outputs": [
    {
     "name": "stdout",
     "output_type": "stream",
     "text": [
      "+---------+-----------------+------------+-------------+---------+--------+----------+-----------------+\n",
      "|Sensor_ID|      Sensor_Name|current_year|current_count|old_count|old_year|count_diff|   percent_change|\n",
      "+---------+-----------------+------------+-------------+---------+--------+----------+-----------------+\n",
      "|       46|Pelham St (South)|        2022|     482679.0|  20686.0|    2021|  461993.0|2233.360727061781|\n",
      "+---------+-----------------+------------+-------------+---------+--------+----------+-----------------+\n",
      "\n"
     ]
    }
   ],
   "source": [
    "#Filter the record with the max percentage Change\n",
    "record_with_max_change = df_joined_counts_1.filter(df_joined_counts_1.percent_change == max_percent_change)\n",
    "record_with_max_change.show()"
   ]
  },
  {
   "cell_type": "code",
   "execution_count": 59,
   "metadata": {},
   "outputs": [
    {
     "name": "stdout",
     "output_type": "stream",
     "text": [
      "+---------+-----------------+-------------------------+------------+-------------+--------+---------+----------+-----------------+\n",
      "|Sensor_ID|Sensor_Name      |Location                 |current_year|current_count|old_year|old_count|count_diff|percent_change   |\n",
      "+---------+-----------------+-------------------------+------------+-------------+--------+---------+----------+-----------------+\n",
      "|46       |Pelham St (South)|-37.80240719, 144.9615673|2022        |482679.0     |2021    |20686.0  |461993.0  |2233.360727061781|\n",
      "+---------+-----------------+-------------------------+------------+-------------+--------+---------+----------+-----------------+\n",
      "\n"
     ]
    }
   ],
   "source": [
    "# Joining location dataframe to find the location\n",
    "df_pd_loctn_mx_chng = record_with_max_change.join(df_pd_cnt_loctn, [lower(trim(df_pd_cnt_loctn['location_id']))==lower(trim(record_with_max_change['Sensor_ID']))] ,'left')\n",
    "df_pd_loctn_mx_chng = df_pd_loctn_mx_chng.select('Sensor_ID',record_with_max_change.Sensor_Name,'Location','current_year','current_count','old_year','old_count','count_diff','percent_change')\n",
    "df_pd_loctn_mx_chng.show(truncate = False)"
   ]
  },
  {
   "cell_type": "markdown",
   "metadata": {},
   "source": [
    "# Verifying the Result"
   ]
  },
  {
   "cell_type": "code",
   "execution_count": 60,
   "metadata": {},
   "outputs": [
    {
     "name": "stdout",
     "output_type": "stream",
     "text": [
      "+----+-----------------------------------------------+\n",
      "|Year|CAST(sum(CAST(Hourly_Counts AS DOUBLE)) AS INT)|\n",
      "+----+-----------------------------------------------+\n",
      "|2022|                                         482679|\n",
      "|2021|                                          20686|\n",
      "+----+-----------------------------------------------+\n",
      "\n"
     ]
    }
   ],
   "source": [
    "#Check the count for year 2022 and 2021\n",
    "spark.sql(\"select Year,int(sum(Hourly_Counts)) from pd_cnt_mnthly_cnt_vw where Sensor_Name = 'Pelham St (South)' and Year in ('2022','2021') group by Year order by Year desc \").show()"
   ]
  }
 ],
 "metadata": {
  "kernelspec": {
   "display_name": "Python 3",
   "language": "python",
   "name": "python3"
  },
  "language_info": {
   "codemirror_mode": {
    "name": "ipython",
    "version": 3
   },
   "file_extension": ".py",
   "mimetype": "text/x-python",
   "name": "python",
   "nbconvert_exporter": "python",
   "pygments_lexer": "ipython3",
   "version": "3.7.8"
  }
 },
 "nbformat": 4,
 "nbformat_minor": 4
}
